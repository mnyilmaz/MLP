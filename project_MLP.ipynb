{
 "cells": [
  {
   "cell_type": "code",
   "execution_count": 26,
   "id": "54213b40-46f7-4b7f-956b-f073e217ec0c",
   "metadata": {},
   "outputs": [],
   "source": [
    "import random\n",
    "import numpy as np\n",
    "import pandas as pd\n",
    "import matplotlib.pyplot as plt\n",
    "from sklearn.model_selection import train_test_split"
   ]
  },
  {
   "cell_type": "code",
   "execution_count": null,
   "id": "065899a0-e1e4-44f6-8124-ae6eb5b4357c",
   "metadata": {},
   "outputs": [],
   "source": [
    "'''\n",
    "The Sonar Dataset involves the prediction of whether or not an object is a mine or a rock given the strength of sonar \n",
    "returns at different angles.\n",
    "\n",
    "It is a binary (2-class) classification problem. The number of observations for each class is not balanced. There are 208 \n",
    "observations with 60 input variables and 1 output variable. The variable names are as follows:\n",
    "\n",
    "Sonar returns at different angles\n",
    "…\n",
    "Class (M for mine and R for rock)\n",
    "The baseline performance of predicting the most prevalent class is a classification accuracy of approximately 53%. \n",
    "Top results achieve a classification accuracy of approximately 88%.\n",
    "'''"
   ]
  },
  {
   "cell_type": "code",
   "execution_count": null,
   "id": "f45e1896-ed4e-4b16-b3b0-b1735d0c1b05",
   "metadata": {},
   "outputs": [],
   "source": [
    "# Phase 1: Load the dataset\n",
    "sonar = pd.read_csv('dataset/sonar.csv')\n",
    "sonar.plot(subplots=True, figsize=(20,60), sharex=False, sharey=False)\n",
    "plt.show()"
   ]
  },
  {
   "cell_type": "code",
   "execution_count": null,
   "id": "7b3be842-82f6-4a9f-857e-5191e686f9bc",
   "metadata": {},
   "outputs": [],
   "source": [
    "# Phase 2: Categorizaiton of X and Y\n",
    "X = sonar.iloc[:, :-1] # Except 61\n",
    "Y = sonar.iloc[:, -1] # Last column\n",
    "\n",
    "# Phase 3: Labeling the output values as numerical\n",
    "from sklearn.preprocessing import LabelEncoder\n",
    "encoder = LabelEncoder()\n",
    "Y_numerical = encoder.fit_transform(Y)"
   ]
  },
  {
   "cell_type": "code",
   "execution_count": null,
   "id": "f352aa68-7ece-4ed9-85c3-27cc1ca05405",
   "metadata": {},
   "outputs": [],
   "source": [
    "# Plot current X and Y\n",
    "X.plot(subplots=True, figsize=(20,60), sharex=False, sharey=False) # Dataframe plotting\n",
    "fig, ax = plt.subplots()\n",
    "ax.plot(Y_numerical)\n",
    "ax.set_xlabel('Dataset Size')\n",
    "ax.set_ylabel('Rock = 1 | Mine = 0')\n",
    "ax.set_title('Rock or Mine?')\n",
    "plt.show()"
   ]
  },
  {
   "cell_type": "code",
   "execution_count": null,
   "id": "a77da262-8859-41a5-b18b-c243ecd1d606",
   "metadata": {},
   "outputs": [],
   "source": [
    "# Phase 4: Apply Z-Score Normalization\n",
    "from sklearn.preprocessing import StandardScaler\n",
    "import scipy.stats as stats\n",
    "from scipy.stats import zscore\n",
    "X = X.apply(stats.zscore)\n",
    "#scaler = StandardScaler()\n",
    "#X = scaler.fit_transform(X)\n",
    "#X = pd.DataFrame(sonar.iloc[:, :-1].values, columns=sonar.iloc[:, :-1].columns)\n",
    "X.plot(subplots=True, figsize=(20,60), sharex=False, sharey=False) # Dataframe plotting\n",
    "plt.show()"
   ]
  },
  {
   "cell_type": "code",
   "execution_count": null,
   "id": "42147ee8-e0e5-4d7d-a65d-ef67d8708c60",
   "metadata": {},
   "outputs": [],
   "source": [
    "X_train, X_test, Y_train, Y_test = train_test_split(X_train,Y, train_size=0.8, test_size=0.2,\n",
    "                                                    random_state=f_i, shuffle=True)"
   ]
  },
  {
   "cell_type": "code",
   "execution_count": null,
   "id": "fd676483-231d-4976-b851-ba8cf5e08253",
   "metadata": {},
   "outputs": [],
   "source": []
  }
 ],
 "metadata": {
  "kernelspec": {
   "display_name": "Python 3 (ipykernel)",
   "language": "python",
   "name": "python3"
  },
  "language_info": {
   "codemirror_mode": {
    "name": "ipython",
    "version": 3
   },
   "file_extension": ".py",
   "mimetype": "text/x-python",
   "name": "python",
   "nbconvert_exporter": "python",
   "pygments_lexer": "ipython3",
   "version": "3.11.7"
  }
 },
 "nbformat": 4,
 "nbformat_minor": 5
}
