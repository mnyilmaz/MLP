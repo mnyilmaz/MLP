{
 "cells": [
  {
   "cell_type": "code",
   "execution_count": null,
   "id": "79a14109-88c2-49b8-8009-d6398417f083",
   "metadata": {},
   "outputs": [],
   "source": [
    "import random\n",
    "import numpy as np\n",
    "import pandas as pd\n",
    "import matplotlib.pyplot as plt"
   ]
  },
  {
   "cell_type": "code",
   "execution_count": null,
   "id": "3eca706c-2018-4102-b6be-1ce120049f35",
   "metadata": {},
   "outputs": [],
   "source": [
    "'''\n",
    "The Sonar Dataset involves the prediction of whether or not an object is a mine or a rock given the strength of sonar \n",
    "returns at different angles.\n",
    "\n",
    "It is a binary (2-class) classification problem. The number of observations for each class is not balanced. There are 208 \n",
    "observations with 60 input variables and 1 output variable. The variable names are as follows:\n",
    "\n",
    "Sonar returns at different angles\n",
    "…\n",
    "Class (M for mine and R for rock)\n",
    "M = 0\n",
    "R = 1\n",
    "The baseline performance of predicting the most prevalent class is a classification accuracy of approximately 53%. \n",
    "Top results achieve a classification accuracy of approximately 88%.\n",
    "'''"
   ]
  },
  {
   "cell_type": "code",
   "execution_count": null,
   "id": "57fcf115-9317-46d0-935f-e33a12d776bd",
   "metadata": {},
   "outputs": [],
   "source": [
    "# Phase 1: Load the dataset\n",
    "sonar = pd.read_csv('dataset/sonar.csv')\n",
    "sonar.plot(subplots=True, figsize=(20,60), sharex=False, sharey=False)\n",
    "plt.show()"
   ]
  },
  {
   "cell_type": "code",
   "execution_count": null,
   "id": "a130d58f-fbf7-47e5-a0d7-84cc723d9436",
   "metadata": {},
   "outputs": [],
   "source": [
    "# Phase 2: Categorization and label encoding\n",
    "from sklearn.model_selection import train_test_split\n",
    "Y = sonar['R']\n",
    "X = sonar.drop(columns=['R']).values\n",
    "\n",
    "# Phase 3: Labeling the output values as numerical\n",
    "from sklearn.preprocessing import LabelEncoder\n",
    "Y = LabelEncoder().fit_transform(sonar['R'])"
   ]
  },
  {
   "cell_type": "code",
   "execution_count": null,
   "id": "2a7e2963-d4e9-4a42-a18f-d3d5f416c7ef",
   "metadata": {},
   "outputs": [],
   "source": [
    "# Phase 4: Split data into test and train then check\n",
    "X_train, X_test, Y_train, Y_test = train_test_split(X, Y, test_size=0.2)\n",
    "print('X train shape: ', X_train.shape)\n",
    "print('Y train shape: ', Y_train.shape)\n",
    "print('X test shape: ', X_test.shape)\n",
    "print('Y test shape: ', Y_test.shape)\n"
   ]
  },
  {
   "cell_type": "code",
   "execution_count": null,
   "id": "8edb24c2-d761-4e92-8c0d-2467f9345937",
   "metadata": {},
   "outputs": [],
   "source": [
    "sonar.head()"
   ]
  },
  {
   "cell_type": "code",
   "execution_count": null,
   "id": "11924320-2554-42b2-83a1-7e8bd60c60c9",
   "metadata": {},
   "outputs": [],
   "source": [
    "# Phase 5: How to train your model?\n",
    "from sklearn.neural_network import MLPClassifier\n",
    "\n",
    "mlp = MLPClassifier(hidden_layer_sizes=(16,32,16), activation='relu', solver='adam', batch_size='auto', max_iter=1000, random_state=42)\n",
    "# Activation function for the hidden layer.\n",
    "# The solver for weight optimization. Optimize weight related to input opposite of SGD (default train value)\n",
    "# Size of minibatches for stochastic optimizers.\n",
    "# Batch size is number of training set for each run\n",
    "# Random size indicates random generator\n",
    "\n",
    "# Train\n",
    "mlp.fit(X_train, Y_train)\n",
    "\n",
    "# Predict\n",
    "prediction = mlp.predict(X_test)\n",
    "print(prediction)"
   ]
  },
  {
   "cell_type": "code",
   "execution_count": null,
   "id": "8fe70631-4db2-495e-a4b6-52fd358c5f56",
   "metadata": {},
   "outputs": [],
   "source": [
    "# Phase 7: The confusion matrix\n",
    "import seaborn as sb\n",
    "mlp_cm = confusion_matrix(Y_test, prediction)\n",
    "f, ax = plt.subplots(figsize=(5,5))\n",
    "sb.heatmap(mlp_cm, annot=True, linewidth=0.7, linecolor='black', fmt='g', ax=ax, cmap=\"BuPu\")\n",
    "plt.title('MLP Confusion Matrix')\n",
    "plt.xlabel('Y predict')\n",
    "plt.ylabel('Y test')\n",
    "plt.show()"
   ]
  },
  {
   "cell_type": "code",
   "execution_count": null,
   "id": "1b742ebe-2a11-4592-a190-52d25f2d5736",
   "metadata": {},
   "outputs": [],
   "source": [
    "# Phase 8: Scores\n",
    "test_acc_mlp = round(mlp.fit(X_train,Y_train).score(X_test, Y_test)* 100, 2)\n",
    "train_acc_mlp = round(mlp.fit(X_train, Y_train).score(X_train, Y_train)* 100, 2)\n",
    "\n",
    "model1 = pd.DataFrame({\n",
    "    'Model': ['MLP'],\n",
    "    'Train Score': [train_acc_mlp],\n",
    "    'Test Score': [test_acc_mlp]\n",
    "})\n",
    "model1.sort_values(by='Test Score', ascending=False)"
   ]
  },
  {
   "cell_type": "code",
   "execution_count": null,
   "id": "c64e3b1d-7801-4f61-bb2c-37a4fd7dd32b",
   "metadata": {},
   "outputs": [],
   "source": [
    "from sklearn.metrics import average_precision_score\n",
    "average_precision = average_precision_score(Y_test, prediction)\n",
    "\n",
    "print('Average precision-recall score: {0:0.2f}'.format(\n",
    "      average_precision))\n",
    "# Precision: Ratio of positive predictions\n",
    "# Recall: Ratio of true positive "
   ]
  },
  {
   "cell_type": "code",
   "execution_count": null,
   "id": "062c4f22-2d4a-47a2-9e1f-e6a1e8547010",
   "metadata": {},
   "outputs": [],
   "source": [
    "import scikitplot as skplt\n",
    "\n",
    "# Loss function implementation\n",
    "mlp.predict_proba(X_test) \n",
    "\n",
    "# Plot the loss curve\n",
    "plt.plot(mlp.loss_curve_)\n",
    "plt.xlabel('Epoch')\n",
    "plt.ylabel('Loss')\n",
    "plt.title('MLPClassifier Loss Curve')\n",
    "plt.show()"
   ]
  },
  {
   "cell_type": "code",
   "execution_count": null,
   "id": "6b1eae03-2012-41e5-8854-cc4a931347e1",
   "metadata": {},
   "outputs": [],
   "source": []
  }
 ],
 "metadata": {
  "kernelspec": {
   "display_name": "Python 3 (ipykernel)",
   "language": "python",
   "name": "python3"
  },
  "language_info": {
   "codemirror_mode": {
    "name": "ipython",
    "version": 3
   },
   "file_extension": ".py",
   "mimetype": "text/x-python",
   "name": "python",
   "nbconvert_exporter": "python",
   "pygments_lexer": "ipython3",
   "version": "3.11.7"
  }
 },
}
